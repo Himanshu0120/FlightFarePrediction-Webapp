{
 "cells": [
  {
   "cell_type": "code",
   "execution_count": 3,
   "metadata": {},
   "outputs": [],
   "source": [
    "import numpy as np\n",
    "import pandas as pd"
   ]
  },
  {
   "cell_type": "code",
   "execution_count": 4,
   "metadata": {},
   "outputs": [],
   "source": [
    "data=pd.read_excel(\"Data/Data_Train.xlsx\",sheet_name='Sheet1')"
   ]
  },
  {
   "cell_type": "code",
   "execution_count": 5,
   "metadata": {},
   "outputs": [
    {
     "name": "stdout",
     "output_type": "stream",
     "text": [
      "       Airline Date_of_Journey    Source Destination                  Route  \\\n",
      "0       IndiGo      24/03/2019  Banglore   New Delhi              BLR → DEL   \n",
      "1    Air India       1/05/2019   Kolkata    Banglore  CCU → IXR → BBI → BLR   \n",
      "2  Jet Airways       9/06/2019     Delhi      Cochin  DEL → LKO → BOM → COK   \n",
      "3       IndiGo      12/05/2019   Kolkata    Banglore        CCU → NAG → BLR   \n",
      "4       IndiGo      01/03/2019  Banglore   New Delhi        BLR → NAG → DEL   \n",
      "\n",
      "  Dep_Time  Arrival_Time Duration Total_Stops Additional_Info  Price  \n",
      "0    22:20  01:10 22 Mar   2h 50m    non-stop         No info   3897  \n",
      "1    05:50         13:15   7h 25m     2 stops         No info   7662  \n",
      "2    09:25  04:25 10 Jun      19h     2 stops         No info  13882  \n",
      "3    18:05         23:30   5h 25m      1 stop         No info   6218  \n",
      "4    16:50         21:35   4h 45m      1 stop         No info  13302  \n"
     ]
    }
   ],
   "source": [
    "pd.set_option(\"display.max_columns\",None)\n",
    "print(data.head())"
   ]
  },
  {
   "cell_type": "code",
   "execution_count": 6,
   "metadata": {},
   "outputs": [],
   "source": [
    "data.drop(['Additional_Info'],inplace=True,axis=1)"
   ]
  },
  {
   "cell_type": "code",
   "execution_count": 7,
   "metadata": {},
   "outputs": [
    {
     "name": "stdout",
     "output_type": "stream",
     "text": [
      "       Airline Date_of_Journey    Source Destination                  Route  \\\n",
      "0       IndiGo      24/03/2019  Banglore   New Delhi              BLR → DEL   \n",
      "1    Air India       1/05/2019   Kolkata    Banglore  CCU → IXR → BBI → BLR   \n",
      "2  Jet Airways       9/06/2019     Delhi      Cochin  DEL → LKO → BOM → COK   \n",
      "3       IndiGo      12/05/2019   Kolkata    Banglore        CCU → NAG → BLR   \n",
      "4       IndiGo      01/03/2019  Banglore   New Delhi        BLR → NAG → DEL   \n",
      "\n",
      "  Dep_Time  Arrival_Time Duration Total_Stops  Price  \n",
      "0    22:20  01:10 22 Mar   2h 50m    non-stop   3897  \n",
      "1    05:50         13:15   7h 25m     2 stops   7662  \n",
      "2    09:25  04:25 10 Jun      19h     2 stops  13882  \n",
      "3    18:05         23:30   5h 25m      1 stop   6218  \n",
      "4    16:50         21:35   4h 45m      1 stop  13302  \n"
     ]
    }
   ],
   "source": [
    "print(data.head())"
   ]
  },
  {
   "cell_type": "code",
   "execution_count": 8,
   "metadata": {},
   "outputs": [],
   "source": [
    "data.drop(['Route'],axis=1,inplace=True)"
   ]
  },
  {
   "cell_type": "code",
   "execution_count": 9,
   "metadata": {},
   "outputs": [
    {
     "name": "stdout",
     "output_type": "stream",
     "text": [
      "       Airline Date_of_Journey    Source Destination Dep_Time  Arrival_Time  \\\n",
      "0       IndiGo      24/03/2019  Banglore   New Delhi    22:20  01:10 22 Mar   \n",
      "1    Air India       1/05/2019   Kolkata    Banglore    05:50         13:15   \n",
      "2  Jet Airways       9/06/2019     Delhi      Cochin    09:25  04:25 10 Jun   \n",
      "3       IndiGo      12/05/2019   Kolkata    Banglore    18:05         23:30   \n",
      "4       IndiGo      01/03/2019  Banglore   New Delhi    16:50         21:35   \n",
      "\n",
      "  Duration Total_Stops  Price  \n",
      "0   2h 50m    non-stop   3897  \n",
      "1   7h 25m     2 stops   7662  \n",
      "2      19h     2 stops  13882  \n",
      "3   5h 25m      1 stop   6218  \n",
      "4   4h 45m      1 stop  13302  \n"
     ]
    }
   ],
   "source": [
    "print(data.head())"
   ]
  },
  {
   "cell_type": "code",
   "execution_count": 10,
   "metadata": {},
   "outputs": [
    {
     "data": {
      "text/plain": [
       "Airline            object\n",
       "Date_of_Journey    object\n",
       "Source             object\n",
       "Destination        object\n",
       "Dep_Time           object\n",
       "Arrival_Time       object\n",
       "Duration           object\n",
       "Total_Stops        object\n",
       "Price               int64\n",
       "dtype: object"
      ]
     },
     "execution_count": 10,
     "metadata": {},
     "output_type": "execute_result"
    }
   ],
   "source": [
    "data.dtypes"
   ]
  },
  {
   "cell_type": "code",
   "execution_count": 11,
   "metadata": {},
   "outputs": [
    {
     "data": {
      "text/plain": [
       "Airline            0\n",
       "Date_of_Journey    0\n",
       "Source             0\n",
       "Destination        0\n",
       "Dep_Time           0\n",
       "Arrival_Time       0\n",
       "Duration           0\n",
       "Total_Stops        1\n",
       "Price              0\n",
       "dtype: int64"
      ]
     },
     "execution_count": 11,
     "metadata": {},
     "output_type": "execute_result"
    }
   ],
   "source": [
    "data.isnull().sum()"
   ]
  },
  {
   "cell_type": "code",
   "execution_count": 12,
   "metadata": {},
   "outputs": [],
   "source": [
    "data.Total_Stops.fillna(0,inplace=True)"
   ]
  },
  {
   "cell_type": "code",
   "execution_count": 13,
   "metadata": {},
   "outputs": [
    {
     "data": {
      "text/plain": [
       "Airline            0\n",
       "Date_of_Journey    0\n",
       "Source             0\n",
       "Destination        0\n",
       "Dep_Time           0\n",
       "Arrival_Time       0\n",
       "Duration           0\n",
       "Total_Stops        0\n",
       "Price              0\n",
       "dtype: int64"
      ]
     },
     "execution_count": 13,
     "metadata": {},
     "output_type": "execute_result"
    }
   ],
   "source": [
    "data.isnull().sum()"
   ]
  },
  {
   "cell_type": "code",
   "execution_count": 14,
   "metadata": {},
   "outputs": [
    {
     "data": {
      "text/plain": [
       "1 stop      5625\n",
       "non-stop    3491\n",
       "2 stops     1520\n",
       "3 stops       45\n",
       "4 stops        1\n",
       "0              1\n",
       "Name: Total_Stops, dtype: int64"
      ]
     },
     "execution_count": 14,
     "metadata": {},
     "output_type": "execute_result"
    }
   ],
   "source": [
    "data.Total_Stops.value_counts()"
   ]
  },
  {
   "cell_type": "code",
   "execution_count": 15,
   "metadata": {},
   "outputs": [],
   "source": [
    "#converting TOTAL sTOPS to integer values \n",
    "data.Total_Stops.replace({'non-stop':0,'1 stop':1,'2 stops':2,'3 stops':3,'4 stops':4},inplace=True)"
   ]
  },
  {
   "cell_type": "code",
   "execution_count": 16,
   "metadata": {},
   "outputs": [
    {
     "name": "stdout",
     "output_type": "stream",
     "text": [
      "       Airline    Source Destination Dep_Time  Arrival_Time Duration  \\\n",
      "0       IndiGo  Banglore   New Delhi    22:20  01:10 22 Mar   2h 50m   \n",
      "1    Air India   Kolkata    Banglore    05:50         13:15   7h 25m   \n",
      "2  Jet Airways     Delhi      Cochin    09:25  04:25 10 Jun      19h   \n",
      "3       IndiGo   Kolkata    Banglore    18:05         23:30   5h 25m   \n",
      "4       IndiGo  Banglore   New Delhi    16:50         21:35   4h 45m   \n",
      "\n",
      "   Total_Stops  Price  day_of_journey  month_of_journey  \n",
      "0            0   3897              24                 3  \n",
      "1            2   7662               1                 5  \n",
      "2            2  13882               9                 6  \n",
      "3            1   6218              12                 5  \n",
      "4            1  13302               1                 3  \n"
     ]
    }
   ],
   "source": [
    "#creaing new cloumns day and month of journey in palce of date\n",
    "day=[]\n",
    "month=[]\n",
    "for i in data.Date_of_Journey:\n",
    "    day.append(i.split('/')[0])\n",
    "    month.append(i.split('/')[1])\n",
    "data['day_of_journey']=day\n",
    "data['month_of_journey']=month\n",
    "data.drop(['Date_of_Journey'],inplace=True,axis=1)\n",
    "data.day_of_journey=data.day_of_journey.astype(int)\n",
    "data.month_of_journey=data.month_of_journey.astype(int)\n",
    "print(data.head())"
   ]
  },
  {
   "cell_type": "code",
   "execution_count": 17,
   "metadata": {},
   "outputs": [
    {
     "name": "stderr",
     "output_type": "stream",
     "text": [
      "D:\\Anaconda3\\lib\\site-packages\\ipykernel_launcher.py:5: SettingWithCopyWarning: \n",
      "A value is trying to be set on a copy of a slice from a DataFrame\n",
      "\n",
      "See the caveats in the documentation: https://pandas.pydata.org/pandas-docs/stable/user_guide/indexing.html#returning-a-view-versus-a-copy\n",
      "  \"\"\"\n",
      "D:\\Anaconda3\\lib\\site-packages\\ipykernel_launcher.py:7: SettingWithCopyWarning: \n",
      "A value is trying to be set on a copy of a slice from a DataFrame\n",
      "\n",
      "See the caveats in the documentation: https://pandas.pydata.org/pandas-docs/stable/user_guide/indexing.html#returning-a-view-versus-a-copy\n",
      "  import sys\n"
     ]
    }
   ],
   "source": [
    "#Processing the Duration Column to get same format of time\n",
    "for i in range(len(data.Duration)):\n",
    "    if len(data.Duration[i].split())!=2:\n",
    "        if 'h' in data.Duration[i]:\n",
    "            data.Duration[i]=data.Duration[i] + ' 0m'\n",
    "        else:\n",
    "            data.Duration[i]='0h ' + data.Duration[i]\n"
   ]
  },
  {
   "cell_type": "code",
   "execution_count": 18,
   "metadata": {},
   "outputs": [],
   "source": [
    "hours=[]\n",
    "mins=[]\n",
    "for i in data.Duration:\n",
    "    hours.append(i.split('h')[0])\n",
    "    mins.append(i.split()[1].split('m')[0])\n",
    "Duration=[]\n",
    "for i in range(len(hours)):\n",
    "    total=int(hours[i])*60 + int(mins[i])\n",
    "    Duration.append(total)\n",
    "data['duration']=Duration\n",
    "data.drop(['Duration'],axis=1,inplace=True)"
   ]
  },
  {
   "cell_type": "code",
   "execution_count": 19,
   "metadata": {},
   "outputs": [
    {
     "name": "stdout",
     "output_type": "stream",
     "text": [
      "       Airline    Source Destination Dep_Time  Arrival_Time  Total_Stops  \\\n",
      "0       IndiGo  Banglore   New Delhi    22:20  01:10 22 Mar            0   \n",
      "1    Air India   Kolkata    Banglore    05:50         13:15            2   \n",
      "2  Jet Airways     Delhi      Cochin    09:25  04:25 10 Jun            2   \n",
      "3       IndiGo   Kolkata    Banglore    18:05         23:30            1   \n",
      "4       IndiGo  Banglore   New Delhi    16:50         21:35            1   \n",
      "\n",
      "   Price  day_of_journey  month_of_journey  duration  dep_hour  dep_min  \n",
      "0   3897              24                 3       170        22       20  \n",
      "1   7662               1                 5       445         5       50  \n",
      "2  13882               9                 6      1140         9       25  \n",
      "3   6218              12                 5       325        18        5  \n",
      "4  13302               1                 3       285        16       50  \n"
     ]
    }
   ],
   "source": [
    "dep_hour=[]\n",
    "dep_min=[]\n",
    "for i in data.Dep_Time:\n",
    "    dep_hour.append(i.split(':')[0])\n",
    "    dep_min.append(i.split(\":\")[1])\n",
    "data['dep_hour']=dep_hour\n",
    "data['dep_min']=dep_min\n",
    "data['dep_hour']=data['dep_hour'].astype(int)\n",
    "data['dep_min']=data['dep_min'].astype(int)\n",
    "print(data.head())"
   ]
  },
  {
   "cell_type": "code",
   "execution_count": 20,
   "metadata": {},
   "outputs": [],
   "source": [
    "data.drop(['Dep_Time','Arrival_Time'],axis=1,inplace=True)"
   ]
  },
  {
   "cell_type": "code",
   "execution_count": 21,
   "metadata": {},
   "outputs": [
    {
     "name": "stdout",
     "output_type": "stream",
     "text": [
      "   Source_Chennai  Source_Delhi  Source_Kolkata  Source_Mumbai  \\\n",
      "0               0             0               0              0   \n",
      "1               0             0               1              0   \n",
      "2               0             1               0              0   \n",
      "3               0             0               1              0   \n",
      "4               0             0               0              0   \n",
      "\n",
      "   Destination_Cochin  Destination_Delhi  Destination_Hyderabad  \\\n",
      "0                   0                  0                      0   \n",
      "1                   0                  0                      0   \n",
      "2                   1                  0                      0   \n",
      "3                   0                  0                      0   \n",
      "4                   0                  0                      0   \n",
      "\n",
      "   Destination_Kolkata  Destination_New Delhi  Airline_Air India  \\\n",
      "0                    0                      1                  0   \n",
      "1                    0                      0                  1   \n",
      "2                    0                      0                  0   \n",
      "3                    0                      0                  0   \n",
      "4                    0                      1                  0   \n",
      "\n",
      "   Airline_GoAir  Airline_IndiGo  Airline_Jet Airways  \\\n",
      "0              0               1                    0   \n",
      "1              0               0                    0   \n",
      "2              0               0                    1   \n",
      "3              0               1                    0   \n",
      "4              0               1                    0   \n",
      "\n",
      "   Airline_Jet Airways Business  Airline_Multiple carriers  \\\n",
      "0                             0                          0   \n",
      "1                             0                          0   \n",
      "2                             0                          0   \n",
      "3                             0                          0   \n",
      "4                             0                          0   \n",
      "\n",
      "   Airline_Multiple carriers Premium economy  Airline_SpiceJet  \\\n",
      "0                                          0                 0   \n",
      "1                                          0                 0   \n",
      "2                                          0                 0   \n",
      "3                                          0                 0   \n",
      "4                                          0                 0   \n",
      "\n",
      "   Airline_Trujet  Airline_Vistara  Airline_Vistara Premium economy  \\\n",
      "0               0                0                                0   \n",
      "1               0                0                                0   \n",
      "2               0                0                                0   \n",
      "3               0                0                                0   \n",
      "4               0                0                                0   \n",
      "\n",
      "   Total_Stops  Price  day_of_journey  month_of_journey  duration  dep_hour  \\\n",
      "0            0   3897              24                 3       170        22   \n",
      "1            2   7662               1                 5       445         5   \n",
      "2            2  13882               9                 6      1140         9   \n",
      "3            1   6218              12                 5       325        18   \n",
      "4            1  13302               1                 3       285        16   \n",
      "\n",
      "   dep_min  \n",
      "0       20  \n",
      "1       50  \n",
      "2       25  \n",
      "3        5  \n",
      "4       50  \n"
     ]
    }
   ],
   "source": [
    "data=pd.concat([pd.get_dummies(data[['Source']],drop_first=True),pd.get_dummies(data[['Destination']],drop_first=True),pd.get_dummies(data[['Airline']],drop_first=True),data],axis=1)\n",
    "data.drop(['Source','Destination','Airline'],axis=1,inplace=True)\n",
    "print(data.head())"
   ]
  },
  {
   "cell_type": "code",
   "execution_count": 22,
   "metadata": {},
   "outputs": [
    {
     "name": "stdout",
     "output_type": "stream",
     "text": [
      "Source_Chennai                               uint8\n",
      "Source_Delhi                                 uint8\n",
      "Source_Kolkata                               uint8\n",
      "Source_Mumbai                                uint8\n",
      "Destination_Cochin                           uint8\n",
      "Destination_Delhi                            uint8\n",
      "Destination_Hyderabad                        uint8\n",
      "Destination_Kolkata                          uint8\n",
      "Destination_New Delhi                        uint8\n",
      "Airline_Air India                            uint8\n",
      "Airline_GoAir                                uint8\n",
      "Airline_IndiGo                               uint8\n",
      "Airline_Jet Airways                          uint8\n",
      "Airline_Jet Airways Business                 uint8\n",
      "Airline_Multiple carriers                    uint8\n",
      "Airline_Multiple carriers Premium economy    uint8\n",
      "Airline_SpiceJet                             uint8\n",
      "Airline_Trujet                               uint8\n",
      "Airline_Vistara                              uint8\n",
      "Airline_Vistara Premium economy              uint8\n",
      "Total_Stops                                  int64\n",
      "Price                                        int64\n",
      "day_of_journey                               int32\n",
      "month_of_journey                             int32\n",
      "duration                                     int64\n",
      "dep_hour                                     int32\n",
      "dep_min                                      int32\n",
      "dtype: object\n"
     ]
    }
   ],
   "source": [
    "print(data.dtypes)"
   ]
  },
  {
   "cell_type": "code",
   "execution_count": 23,
   "metadata": {},
   "outputs": [
    {
     "name": "stdout",
     "output_type": "stream",
     "text": [
      "   Source_Chennai  Source_Delhi  Source_Kolkata  Source_Mumbai  \\\n",
      "0               0             0               0              0   \n",
      "1               0             0               1              0   \n",
      "2               0             1               0              0   \n",
      "3               0             0               1              0   \n",
      "4               0             0               0              0   \n",
      "\n",
      "   Destination_Cochin  Destination_Delhi  Destination_Hyderabad  \\\n",
      "0                   0                  0                      0   \n",
      "1                   0                  0                      0   \n",
      "2                   1                  0                      0   \n",
      "3                   0                  0                      0   \n",
      "4                   0                  0                      0   \n",
      "\n",
      "   Destination_Kolkata  Destination_New Delhi  Airline_Air India  \\\n",
      "0                    0                      1                  0   \n",
      "1                    0                      0                  1   \n",
      "2                    0                      0                  0   \n",
      "3                    0                      0                  0   \n",
      "4                    0                      1                  0   \n",
      "\n",
      "   Airline_GoAir  Airline_IndiGo  Airline_Jet Airways  \\\n",
      "0              0               1                    0   \n",
      "1              0               0                    0   \n",
      "2              0               0                    1   \n",
      "3              0               1                    0   \n",
      "4              0               1                    0   \n",
      "\n",
      "   Airline_Jet Airways Business  Airline_Multiple carriers  \\\n",
      "0                             0                          0   \n",
      "1                             0                          0   \n",
      "2                             0                          0   \n",
      "3                             0                          0   \n",
      "4                             0                          0   \n",
      "\n",
      "   Airline_Multiple carriers Premium economy  Airline_SpiceJet  \\\n",
      "0                                          0                 0   \n",
      "1                                          0                 0   \n",
      "2                                          0                 0   \n",
      "3                                          0                 0   \n",
      "4                                          0                 0   \n",
      "\n",
      "   Airline_Trujet  Airline_Vistara  Airline_Vistara Premium economy  \\\n",
      "0               0                0                                0   \n",
      "1               0                0                                0   \n",
      "2               0                0                                0   \n",
      "3               0                0                                0   \n",
      "4               0                0                                0   \n",
      "\n",
      "   Total_Stops  day_of_journey  month_of_journey  duration  dep_hour  dep_min  \n",
      "0            0              24                 3       170        22       20  \n",
      "1            2               1                 5       445         5       50  \n",
      "2            2               9                 6      1140         9       25  \n",
      "3            1              12                 5       325        18        5  \n",
      "4            1               1                 3       285        16       50  \n"
     ]
    }
   ],
   "source": [
    "print(data.drop(['Price'],axis=1).head())\n",
    "x=data.drop(['Price'],axis=1).values\n",
    "y=data.Price.values"
   ]
  },
  {
   "cell_type": "code",
   "execution_count": 24,
   "metadata": {},
   "outputs": [],
   "source": [
    "from sklearn.model_selection import train_test_split\n",
    "x_train,x_test,y_train,y_test=train_test_split(x, y, test_size = 0.25, random_state=21)\n",
    "\n"
   ]
  },
  {
   "cell_type": "code",
   "execution_count": 25,
   "metadata": {},
   "outputs": [],
   "source": [
    "import xgboost as xgb"
   ]
  },
  {
   "cell_type": "code",
   "execution_count": 26,
   "metadata": {},
   "outputs": [
    {
     "name": "stdout",
     "output_type": "stream",
     "text": [
      "Fitting 5 folds for each of 5 candidates, totalling 25 fits\n"
     ]
    },
    {
     "name": "stderr",
     "output_type": "stream",
     "text": [
      "[Parallel(n_jobs=-1)]: Using backend LokyBackend with 8 concurrent workers.\n",
      "[Parallel(n_jobs=-1)]: Done  19 out of  25 | elapsed:    7.8s remaining:    2.4s\n",
      "[Parallel(n_jobs=-1)]: Done  25 out of  25 | elapsed:    9.0s finished\n"
     ]
    },
    {
     "data": {
      "text/plain": [
       "{'min_child_weight': 5,\n",
       " 'max_depth': 9,\n",
       " 'learning_rate': 0.15,\n",
       " 'gamma': 0.4,\n",
       " 'colsample_bytree': 0.4}"
      ]
     },
     "execution_count": 26,
     "metadata": {},
     "output_type": "execute_result"
    }
   ],
   "source": [
    "from sklearn.model_selection import RandomizedSearchCV\n",
    "params={\n",
    "    'learning_rate':[0.05,0.1,0.15,0.2,0.25,0.3],\n",
    "    'max_depth':[3,5,7,9,4,12,15],\n",
    "    'min_child_weight':[1,3,5,7],\n",
    "    'gamma':[0.0,0.1,0.2,0.3,0.4],\n",
    "    'colsample_bytree':[0.3,0.4,0.5,0.7]\n",
    "}\n",
    "model=xgb.XGBRegressor()\n",
    "random_search=RandomizedSearchCV(model,param_distributions=params,n_iter=5,n_jobs=-1,cv=5,verbose=3)\n",
    "random_search.fit(x_train,y_train)\n",
    "random_search.best_params_"
   ]
  },
  {
   "cell_type": "code",
   "execution_count": 27,
   "metadata": {},
   "outputs": [
    {
     "name": "stdout",
     "output_type": "stream",
     "text": [
      "[0.82676586 0.84487763 0.80434887 0.82624906 0.8359647 ]\n"
     ]
    }
   ],
   "source": [
    "model=xgb.XGBRegressor(min_child_weight= 3,\n",
    " max_depth= 7,\n",
    " learning_rate= 0.3,\n",
    " gamma= 0.3,\n",
    " colsample_bytree= 0.4)\n",
    "from sklearn.model_selection import cross_val_score\n",
    "score=cross_val_score(model,x_train,y_train,cv=5)\n",
    "print(score)"
   ]
  },
  {
   "cell_type": "code",
   "execution_count": 28,
   "metadata": {},
   "outputs": [
    {
     "data": {
      "text/plain": [
       "0.8305308460241765"
      ]
     },
     "execution_count": 28,
     "metadata": {},
     "output_type": "execute_result"
    }
   ],
   "source": [
    "\n",
    "model.fit(x_train,y_train)\n",
    "model.score(x_test,y_test)"
   ]
  },
  {
   "cell_type": "code",
   "execution_count": 29,
   "metadata": {},
   "outputs": [],
   "source": [
    "import pickle\n",
    "with open('model_pickle','wb') as f:\n",
    "    pickle.dump(model,f)"
   ]
  },
  {
   "cell_type": "code",
   "execution_count": null,
   "metadata": {},
   "outputs": [],
   "source": []
  }
 ],
 "metadata": {
  "kernelspec": {
   "display_name": "Python 3",
   "language": "python",
   "name": "python3"
  },
  "language_info": {
   "codemirror_mode": {
    "name": "ipython",
    "version": 3
   },
   "file_extension": ".py",
   "mimetype": "text/x-python",
   "name": "python",
   "nbconvert_exporter": "python",
   "pygments_lexer": "ipython3",
   "version": "3.7.6"
  }
 },
 "nbformat": 4,
 "nbformat_minor": 4
}
